{
 "cells": [
  {
   "cell_type": "markdown",
   "metadata": {},
   "source": [
    "Keras library for buidling CNN"
   ]
  },
  {
   "cell_type": "code",
   "execution_count": 1,
   "metadata": {},
   "outputs": [
    {
     "name": "stderr",
     "output_type": "stream",
     "text": [
      "Using TensorFlow backend.\n"
     ]
    }
   ],
   "source": [
    "from keras.models import Sequential  #for initializing sequence network\n",
    "from keras.layers import Conv2D  #for convolution\n",
    "from keras.layers import MaxPooling2D #for pooling\n",
    "from keras.layers import Flatten #for flattening\n",
    "from keras.layers import Dense #for building layers"
   ]
  },
  {
   "cell_type": "code",
   "execution_count": 2,
   "metadata": {},
   "outputs": [],
   "source": [
    "classifier = Sequential() #creating the object for initialization for model"
   ]
  },
  {
   "cell_type": "code",
   "execution_count": 3,
   "metadata": {},
   "outputs": [],
   "source": [
    "classifier.add(Conv2D(32, (3, 3), input_shape = (64, 64, 3), activation = \"relu\"))"
   ]
  },
  {
   "cell_type": "raw",
   "metadata": {},
   "source": [
    "\"32, (3, 3)\" - 32 will be the number of filter\n",
    "               3,3 will row * column\n",
    "               \n",
    "input_shape = (64, 64, 3) - 64, 64 will be row * column\n",
    "                            3 will be channel, 3 channel means coloured image\n",
    "\n",
    "\"relu\" to remove non negative from image      "
   ]
  },
  {
   "cell_type": "markdown",
   "metadata": {},
   "source": [
    "Pooling"
   ]
  },
  {
   "cell_type": "code",
   "execution_count": 4,
   "metadata": {},
   "outputs": [],
   "source": [
    "classifier.add(MaxPooling2D(pool_size = (2, 2)))"
   ]
  },
  {
   "cell_type": "markdown",
   "metadata": {},
   "source": [
    "Second layer"
   ]
  },
  {
   "cell_type": "code",
   "execution_count": 5,
   "metadata": {},
   "outputs": [],
   "source": [
    "classifier.add(Conv2D(32, (3, 3), activation = \"relu\"))\n",
    "classifier.add(MaxPooling2D(pool_size = (2, 2)))"
   ]
  },
  {
   "cell_type": "markdown",
   "metadata": {},
   "source": [
    "Flattening"
   ]
  },
  {
   "cell_type": "code",
   "execution_count": 6,
   "metadata": {},
   "outputs": [],
   "source": [
    "classifier.add(Flatten())"
   ]
  },
  {
   "cell_type": "markdown",
   "metadata": {},
   "source": [
    "Full Connection"
   ]
  },
  {
   "cell_type": "code",
   "execution_count": 7,
   "metadata": {},
   "outputs": [],
   "source": [
    "classifier.add(Dense(units = 128, activation = \"relu\"))\n",
    "classifier.add(Dense(units = 1, activation = \"sigmoid\"))"
   ]
  },
  {
   "cell_type": "markdown",
   "metadata": {},
   "source": [
    "Compiling CNN"
   ]
  },
  {
   "cell_type": "code",
   "execution_count": 8,
   "metadata": {},
   "outputs": [],
   "source": [
    "classifier.compile(optimizer = 'adam', loss = 'binary_crossentropy', metrics = ['accuracy'])"
   ]
  },
  {
   "cell_type": "markdown",
   "metadata": {},
   "source": [
    "Fitting CNN to image"
   ]
  },
  {
   "cell_type": "code",
   "execution_count": 9,
   "metadata": {},
   "outputs": [],
   "source": [
    "from keras.preprocessing.image import ImageDataGenerator"
   ]
  },
  {
   "cell_type": "code",
   "execution_count": 10,
   "metadata": {},
   "outputs": [],
   "source": [
    "train_datagen = ImageDataGenerator(rescale = 1./255,\n",
    "                                   shear_range = 0.2,\n",
    "                                   zoom_range = 0.2,\n",
    "                                   horizontal_flip = True)"
   ]
  },
  {
   "cell_type": "code",
   "execution_count": 11,
   "metadata": {},
   "outputs": [],
   "source": [
    "test_datagen = ImageDataGenerator(rescale = 1./255)"
   ]
  },
  {
   "cell_type": "code",
   "execution_count": 12,
   "metadata": {},
   "outputs": [
    {
     "name": "stdout",
     "output_type": "stream",
     "text": [
      "Found 8000 images belonging to 2 classes.\n"
     ]
    }
   ],
   "source": [
    "training_set = train_datagen.flow_from_directory('dataset/training_set',\n",
    "                                                 target_size = (64, 64),\n",
    "                                                 batch_size = 32,\n",
    "                                                 class_mode = 'binary')"
   ]
  },
  {
   "cell_type": "code",
   "execution_count": 13,
   "metadata": {},
   "outputs": [
    {
     "name": "stdout",
     "output_type": "stream",
     "text": [
      "Found 2000 images belonging to 2 classes.\n"
     ]
    }
   ],
   "source": [
    "test_set = test_datagen.flow_from_directory('dataset/test_set',\n",
    "                                            target_size = (64, 64),\n",
    "                                            batch_size = 32,\n",
    "                                            class_mode = 'binary')\n"
   ]
  },
  {
   "cell_type": "code",
   "execution_count": 14,
   "metadata": {},
   "outputs": [
    {
     "name": "stdout",
     "output_type": "stream",
     "text": [
      "Epoch 1/25\n",
      "8000/8000 [==============================] - 1316s 165ms/step - loss: 0.3530 - accuracy: 0.8347 - val_loss: 0.7281 - val_accuracy: 0.7900\n",
      "Epoch 2/25\n",
      "8000/8000 [==============================] - 1103s 138ms/step - loss: 0.0941 - accuracy: 0.9647 - val_loss: 1.6235 - val_accuracy: 0.7898\n",
      "Epoch 3/25\n",
      "8000/8000 [==============================] - 1107s 138ms/step - loss: 0.0482 - accuracy: 0.9827 - val_loss: 1.0642 - val_accuracy: 0.7931\n",
      "Epoch 4/25\n",
      "8000/8000 [==============================] - 1095s 137ms/step - loss: 0.0349 - accuracy: 0.9882 - val_loss: 1.4055 - val_accuracy: 0.8024\n",
      "Epoch 5/25\n",
      "8000/8000 [==============================] - 1087s 136ms/step - loss: 0.0292 - accuracy: 0.9902 - val_loss: 2.3280 - val_accuracy: 0.7933\n",
      "Epoch 6/25\n",
      "8000/8000 [==============================] - 1073s 134ms/step - loss: 0.0235 - accuracy: 0.9922 - val_loss: 2.6846 - val_accuracy: 0.7851\n",
      "Epoch 7/25\n",
      "8000/8000 [==============================] - 1074s 134ms/step - loss: 0.0213 - accuracy: 0.9930 - val_loss: 1.6680 - val_accuracy: 0.7875\n",
      "Epoch 8/25\n",
      "8000/8000 [==============================] - 1096s 137ms/step - loss: 0.0177 - accuracy: 0.9940 - val_loss: 2.3189 - val_accuracy: 0.7967\n",
      "Epoch 9/25\n",
      "8000/8000 [==============================] - 1087s 136ms/step - loss: 0.0179 - accuracy: 0.9943 - val_loss: 1.4657 - val_accuracy: 0.7946\n",
      "Epoch 10/25\n",
      "8000/8000 [==============================] - 1091s 136ms/step - loss: 0.0151 - accuracy: 0.9953 - val_loss: 1.3855 - val_accuracy: 0.7940\n",
      "Epoch 11/25\n",
      "8000/8000 [==============================] - 1076s 134ms/step - loss: 0.0144 - accuracy: 0.9956 - val_loss: 0.7392 - val_accuracy: 0.7899\n",
      "Epoch 12/25\n",
      "8000/8000 [==============================] - 1089s 136ms/step - loss: 0.0134 - accuracy: 0.9959 - val_loss: 3.7171 - val_accuracy: 0.7936\n",
      "Epoch 13/25\n",
      "8000/8000 [==============================] - 1068s 134ms/step - loss: 0.0126 - accuracy: 0.9960 - val_loss: 2.5253 - val_accuracy: 0.8009\n",
      "Epoch 14/25\n",
      "8000/8000 [==============================] - 1075s 134ms/step - loss: 0.0117 - accuracy: 0.9963 - val_loss: 1.4006 - val_accuracy: 0.7839\n",
      "Epoch 15/25\n",
      "8000/8000 [==============================] - 1090s 136ms/step - loss: 0.0105 - accuracy: 0.9968 - val_loss: 2.7130 - val_accuracy: 0.7961\n",
      "Epoch 16/25\n",
      "8000/8000 [==============================] - 1070s 134ms/step - loss: 0.0106 - accuracy: 0.9967 - val_loss: 2.9262 - val_accuracy: 0.8009\n",
      "Epoch 17/25\n",
      "8000/8000 [==============================] - 1091s 136ms/step - loss: 0.0097 - accuracy: 0.9970 - val_loss: 1.3841 - val_accuracy: 0.7901\n",
      "Epoch 18/25\n",
      "8000/8000 [==============================] - 1070s 134ms/step - loss: 0.0096 - accuracy: 0.9970 - val_loss: 1.3322 - val_accuracy: 0.7924\n",
      "Epoch 19/25\n",
      "8000/8000 [==============================] - 1086s 136ms/step - loss: 0.0091 - accuracy: 0.9973 - val_loss: 3.9972 - val_accuracy: 0.8032\n",
      "Epoch 20/25\n",
      "8000/8000 [==============================] - 1071s 134ms/step - loss: 0.0085 - accuracy: 0.9974 - val_loss: 1.8847 - val_accuracy: 0.7941\n",
      "Epoch 21/25\n",
      "8000/8000 [==============================] - 1076s 134ms/step - loss: 0.0086 - accuracy: 0.9975 - val_loss: 3.3334 - val_accuracy: 0.7947\n",
      "Epoch 22/25\n",
      "8000/8000 [==============================] - 1098s 137ms/step - loss: 0.0081 - accuracy: 0.9976 - val_loss: 1.8700 - val_accuracy: 0.8009\n",
      "Epoch 23/25\n",
      "8000/8000 [==============================] - 1098s 137ms/step - loss: 0.0082 - accuracy: 0.9975 - val_loss: 1.7384 - val_accuracy: 0.7950\n",
      "Epoch 24/25\n",
      "8000/8000 [==============================] - 1140s 143ms/step - loss: 0.0078 - accuracy: 0.9977 - val_loss: 2.9093 - val_accuracy: 0.7958\n",
      "Epoch 25/25\n",
      "8000/8000 [==============================] - 1096s 137ms/step - loss: 0.0074 - accuracy: 0.9978 - val_loss: 1.1698 - val_accuracy: 0.8164\n"
     ]
    },
    {
     "data": {
      "text/plain": [
       "<keras.callbacks.callbacks.History at 0x21a42bed358>"
      ]
     },
     "execution_count": 14,
     "metadata": {},
     "output_type": "execute_result"
    }
   ],
   "source": [
    "classifier.fit_generator(training_set,\n",
    "                         steps_per_epoch = 8000,\n",
    "                         epochs = 25,\n",
    "                         validation_data = test_set,\n",
    "                         validation_steps = 2000)"
   ]
  }
 ],
 "metadata": {
  "kernelspec": {
   "display_name": "Python 3",
   "language": "python",
   "name": "python3"
  },
  "language_info": {
   "codemirror_mode": {
    "name": "ipython",
    "version": 3
   },
   "file_extension": ".py",
   "mimetype": "text/x-python",
   "name": "python",
   "nbconvert_exporter": "python",
   "pygments_lexer": "ipython3",
   "version": "3.6.7"
  },
  "varInspector": {
   "cols": {
    "lenName": 16,
    "lenType": 16,
    "lenVar": 40
   },
   "kernels_config": {
    "python": {
     "delete_cmd_postfix": "",
     "delete_cmd_prefix": "del ",
     "library": "var_list.py",
     "varRefreshCmd": "print(var_dic_list())"
    },
    "r": {
     "delete_cmd_postfix": ") ",
     "delete_cmd_prefix": "rm(",
     "library": "var_list.r",
     "varRefreshCmd": "cat(var_dic_list()) "
    }
   },
   "types_to_exclude": [
    "module",
    "function",
    "builtin_function_or_method",
    "instance",
    "_Feature"
   ],
   "window_display": false
  }
 },
 "nbformat": 4,
 "nbformat_minor": 2
}
