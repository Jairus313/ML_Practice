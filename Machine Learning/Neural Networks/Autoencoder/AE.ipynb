{
 "cells": [
  {
   "cell_type": "markdown",
   "metadata": {},
   "source": [
    "# Simple AutoEncoder"
   ]
  },
  {
   "cell_type": "code",
   "execution_count": 13,
   "metadata": {},
   "outputs": [],
   "source": [
    "from keras.layers import Input, Dense\n",
    "from keras.models import Model"
   ]
  },
  {
   "cell_type": "code",
   "execution_count": 14,
   "metadata": {},
   "outputs": [],
   "source": [
    "encoding_dim = 256 #input dimension"
   ]
  },
  {
   "cell_type": "code",
   "execution_count": 15,
   "metadata": {},
   "outputs": [],
   "source": [
    "'''Here we adding same number of input and output nodes.\n",
    "   By shaping input and output'''\n",
    "\n",
    "input_img = Input(shape=(784,)) #object of shaping 784\n",
    "\n",
    "encoded = Dense(encoding_dim, activation='relu')(input_img) #for representation\n",
    "decoded = Dense(784, activation='sigmoid')(encoded) #for reconstruction"
   ]
  },
  {
   "cell_type": "code",
   "execution_count": 16,
   "metadata": {},
   "outputs": [],
   "source": [
    "autoencoder = Model(input_img, decoded) #maps input to reconstruction"
   ]
  },
  {
   "cell_type": "code",
   "execution_count": 17,
   "metadata": {},
   "outputs": [],
   "source": [
    "encoder = Model(input_img, encoded) #emcoder"
   ]
  },
  {
   "cell_type": "code",
   "execution_count": 18,
   "metadata": {},
   "outputs": [],
   "source": [
    "encoded_input = Input(shape=(encoding_dim,)) #shaping to 32 dimensional input"
   ]
  },
  {
   "cell_type": "code",
   "execution_count": 19,
   "metadata": {},
   "outputs": [],
   "source": [
    "decoder_layer = autoencoder.layers[-1]"
   ]
  },
  {
   "cell_type": "code",
   "execution_count": 20,
   "metadata": {},
   "outputs": [],
   "source": [
    "decoder = Model(encoded_input, decoder_layer(encoded_input))"
   ]
  },
  {
   "cell_type": "code",
   "execution_count": 21,
   "metadata": {},
   "outputs": [],
   "source": [
    "autoencoder.compile(optimizer='adadelta', loss='binary_crossentropy')"
   ]
  },
  {
   "cell_type": "code",
   "execution_count": 22,
   "metadata": {},
   "outputs": [],
   "source": [
    "from keras.datasets import mnist\n",
    "import numpy as np\n",
    "\n",
    "(x_train, _), (x_test, _) = mnist.load_data()"
   ]
  },
  {
   "cell_type": "code",
   "execution_count": 23,
   "metadata": {},
   "outputs": [
    {
     "name": "stdout",
     "output_type": "stream",
     "text": [
      "(60000, 784)\n",
      "(10000, 784)\n"
     ]
    }
   ],
   "source": [
    "x_train = x_train.astype('float32') / 255.\n",
    "x_test = x_test.astype('float32') / 255.\n",
    "\n",
    "x_train = x_train.reshape((len(x_train), np.prod(x_train.shape[1:])))\n",
    "x_test = x_test.reshape((len(x_test), np.prod(x_test.shape[1:])))\n",
    "\n",
    "print (x_train.shape)\n",
    "print (x_test.shape)"
   ]
  },
  {
   "cell_type": "code",
   "execution_count": 24,
   "metadata": {},
   "outputs": [
    {
     "name": "stdout",
     "output_type": "stream",
     "text": [
      "Train on 60000 samples, validate on 10000 samples\n",
      "Epoch 1/50\n",
      "60000/60000 [==============================] - 4s 65us/step - loss: 0.3261 - val_loss: 0.2569\n",
      "Epoch 2/50\n",
      "60000/60000 [==============================] - 4s 63us/step - loss: 0.2404 - val_loss: 0.2220\n",
      "Epoch 3/50\n",
      "60000/60000 [==============================] - 4s 68us/step - loss: 0.2106 - val_loss: 0.1980\n",
      "Epoch 4/50\n",
      "60000/60000 [==============================] - 5s 76us/step - loss: 0.1912 - val_loss: 0.1824\n",
      "Epoch 5/50\n",
      "60000/60000 [==============================] - 4s 69us/step - loss: 0.1779 - val_loss: 0.1709\n",
      "Epoch 6/50\n",
      "60000/60000 [==============================] - 4s 63us/step - loss: 0.1676 - val_loss: 0.1617\n",
      "Epoch 7/50\n",
      "60000/60000 [==============================] - 3s 58us/step - loss: 0.1593 - val_loss: 0.1541\n",
      "Epoch 8/50\n",
      "60000/60000 [==============================] - 4s 59us/step - loss: 0.1523 - val_loss: 0.1477\n",
      "Epoch 9/50\n",
      "60000/60000 [==============================] - 5s 76us/step - loss: 0.1463 - val_loss: 0.1422\n",
      "Epoch 10/50\n",
      "60000/60000 [==============================] - 4s 61us/step - loss: 0.1411 - val_loss: 0.1374\n",
      "Epoch 11/50\n",
      "60000/60000 [==============================] - 4s 60us/step - loss: 0.1364 - val_loss: 0.1328\n",
      "Epoch 12/50\n",
      "60000/60000 [==============================] - 4s 59us/step - loss: 0.1323 - val_loss: 0.1289\n",
      "Epoch 13/50\n",
      "60000/60000 [==============================] - 4s 59us/step - loss: 0.1285 - val_loss: 0.1253\n",
      "Epoch 14/50\n",
      "60000/60000 [==============================] - 4s 62us/step - loss: 0.1250 - val_loss: 0.1219\n",
      "Epoch 15/50\n",
      "60000/60000 [==============================] - 4s 71us/step - loss: 0.1219 - val_loss: 0.1189\n",
      "Epoch 16/50\n",
      "60000/60000 [==============================] - 4s 66us/step - loss: 0.1189 - val_loss: 0.1161\n",
      "Epoch 17/50\n",
      "60000/60000 [==============================] - 4s 71us/step - loss: 0.1161 - val_loss: 0.1133\n",
      "Epoch 18/50\n",
      "60000/60000 [==============================] - 4s 71us/step - loss: 0.1136 - val_loss: 0.1109\n",
      "Epoch 19/50\n",
      "60000/60000 [==============================] - 4s 71us/step - loss: 0.1112 - val_loss: 0.1086\n",
      "Epoch 20/50\n",
      "60000/60000 [==============================] - 4s 66us/step - loss: 0.1090 - val_loss: 0.1065\n",
      "Epoch 21/50\n",
      "60000/60000 [==============================] - 4s 72us/step - loss: 0.1069 - val_loss: 0.1045\n",
      "Epoch 22/50\n",
      "60000/60000 [==============================] - 4s 59us/step - loss: 0.1050 - val_loss: 0.1027\n",
      "Epoch 23/50\n",
      "60000/60000 [==============================] - 4s 68us/step - loss: 0.1032 - val_loss: 0.1010\n",
      "Epoch 24/50\n",
      "60000/60000 [==============================] - 4s 61us/step - loss: 0.1016 - val_loss: 0.0994\n",
      "Epoch 25/50\n",
      "60000/60000 [==============================] - 4s 60us/step - loss: 0.1000 - val_loss: 0.0979\n",
      "Epoch 26/50\n",
      "60000/60000 [==============================] - 4s 58us/step - loss: 0.0986 - val_loss: 0.0966\n",
      "Epoch 27/50\n",
      "60000/60000 [==============================] - 4s 59us/step - loss: 0.0973 - val_loss: 0.0954\n",
      "Epoch 28/50\n",
      "60000/60000 [==============================] - 4s 60us/step - loss: 0.0961 - val_loss: 0.0942\n",
      "Epoch 29/50\n",
      "60000/60000 [==============================] - 4s 66us/step - loss: 0.0950 - val_loss: 0.0932\n",
      "Epoch 30/50\n",
      "60000/60000 [==============================] - 4s 61us/step - loss: 0.0940 - val_loss: 0.0922\n",
      "Epoch 31/50\n",
      "60000/60000 [==============================] - 4s 61us/step - loss: 0.0930 - val_loss: 0.0913\n",
      "Epoch 32/50\n",
      "60000/60000 [==============================] - 4s 66us/step - loss: 0.0921 - val_loss: 0.0904\n",
      "Epoch 33/50\n",
      "60000/60000 [==============================] - 4s 61us/step - loss: 0.0913 - val_loss: 0.0897\n",
      "Epoch 34/50\n",
      "60000/60000 [==============================] - 4s 60us/step - loss: 0.0905 - val_loss: 0.0889\n",
      "Epoch 35/50\n",
      "60000/60000 [==============================] - 4s 65us/step - loss: 0.0898 - val_loss: 0.0882\n",
      "Epoch 36/50\n",
      "60000/60000 [==============================] - 4s 59us/step - loss: 0.0891 - val_loss: 0.0876\n",
      "Epoch 37/50\n",
      "60000/60000 [==============================] - 4s 60us/step - loss: 0.0884 - val_loss: 0.0869\n",
      "Epoch 38/50\n",
      "60000/60000 [==============================] - 4s 66us/step - loss: 0.0878 - val_loss: 0.0864\n",
      "Epoch 39/50\n",
      "60000/60000 [==============================] - 4s 60us/step - loss: 0.0873 - val_loss: 0.0858\n",
      "Epoch 40/50\n",
      "60000/60000 [==============================] - 4s 59us/step - loss: 0.0867 - val_loss: 0.0853\n",
      "Epoch 41/50\n",
      "60000/60000 [==============================] - 4s 66us/step - loss: 0.0862 - val_loss: 0.0848\n",
      "Epoch 42/50\n",
      "60000/60000 [==============================] - 4s 63us/step - loss: 0.0857 - val_loss: 0.0844\n",
      "Epoch 43/50\n",
      "60000/60000 [==============================] - 4s 66us/step - loss: 0.0853 - val_loss: 0.0839\n",
      "Epoch 44/50\n",
      "60000/60000 [==============================] - 5s 80us/step - loss: 0.0848 - val_loss: 0.0835\n",
      "Epoch 45/50\n",
      "60000/60000 [==============================] - 4s 74us/step - loss: 0.0844 - val_loss: 0.0831\n",
      "Epoch 46/50\n",
      "60000/60000 [==============================] - 4s 62us/step - loss: 0.0840 - val_loss: 0.0827\n",
      "Epoch 47/50\n",
      "60000/60000 [==============================] - 4s 60us/step - loss: 0.0836 - val_loss: 0.0824\n",
      "Epoch 48/50\n",
      "60000/60000 [==============================] - 4s 59us/step - loss: 0.0833 - val_loss: 0.0820\n",
      "Epoch 49/50\n",
      "60000/60000 [==============================] - 4s 58us/step - loss: 0.0829 - val_loss: 0.0817\n",
      "Epoch 50/50\n",
      "60000/60000 [==============================] - 4s 59us/step - loss: 0.0826 - val_loss: 0.0814\n"
     ]
    },
    {
     "data": {
      "text/plain": [
       "<keras.callbacks.callbacks.History at 0x1da1b5bc0b8>"
      ]
     },
     "execution_count": 24,
     "metadata": {},
     "output_type": "execute_result"
    }
   ],
   "source": [
    "autoencoder.fit(x_train, x_train,\n",
    "                epochs=50,\n",
    "                batch_size=256,\n",
    "                shuffle=True,\n",
    "                validation_data=(x_test, x_test))"
   ]
  },
  {
   "cell_type": "code",
   "execution_count": 25,
   "metadata": {},
   "outputs": [],
   "source": [
    "encoded_imgs = encoder.predict(x_test)\n",
    "decoded_imgs = decoder.predict(encoded_imgs)"
   ]
  },
  {
   "cell_type": "code",
   "execution_count": 27,
   "metadata": {},
   "outputs": [
    {
     "data": {
      "image/png": "[encoded data removed]",
      "text/plain": [
       "<Figure size 1440x288 with 20 Axes>"
      ]
     },
     "metadata": {
      "needs_background": "light"
     },
     "output_type": "display_data"
    }
   ],
   "source": [
    "import matplotlib.pyplot as plt\n",
    "\n",
    "n = 10  # how many digits we will display\n",
    "plt.figure(figsize=(20, 4))\n",
    "for i in range(n):\n",
    "    # display original\n",
    "    ax = plt.subplot(2, n, i + 1)\n",
    "    plt.imshow(x_test[i].reshape(28, 28))\n",
    "    plt.gray()\n",
    "    ax.get_xaxis().set_visible(False)\n",
    "    ax.get_yaxis().set_visible(False)\n",
    "\n",
    "    # display reconstruction\n",
    "    ax = plt.subplot(2, n, i + 1 + n)\n",
    "    plt.imshow(decoded_imgs[i].reshape(28, 28))\n",
    "    plt.gray()\n",
    "    ax.get_xaxis().set_visible(False)\n",
    "    ax.get_yaxis().set_visible(False)\n",
    "plt.show()"
   ]
  },
  {
   "cell_type": "code",
   "execution_count": 28,
   "metadata": {},
   "outputs": [],
   "source": [
    "from keras import regularizers"
   ]
  },
  {
   "cell_type": "code",
   "execution_count": 29,
   "metadata": {},
   "outputs": [],
   "source": [
    "encoding_dim = 256"
   ]
  },
  {
   "cell_type": "code",
   "execution_count": 30,
   "metadata": {},
   "outputs": [],
   "source": [
    "input_img = Input(shape=(784,))"
   ]
  },
  {
   "cell_type": "code",
   "execution_count": 31,
   "metadata": {},
   "outputs": [],
   "source": [
    "encoded = Dense(encoding_dim, \n",
    "                activation='relu',\n",
    "                activity_regularizer=regularizers.l1(10e-5))(input_img)"
   ]
  },
  {
   "cell_type": "code",
   "execution_count": 32,
   "metadata": {},
   "outputs": [],
   "source": [
    "decoded = Dense(784, activation='sigmoid')(encoded)"
   ]
  },
  {
   "cell_type": "code",
   "execution_count": 33,
   "metadata": {},
   "outputs": [],
   "source": [
    "autoencoder = Model(input_img, decoded)"
   ]
  },
  {
   "cell_type": "code",
   "execution_count": 34,
   "metadata": {},
   "outputs": [],
   "source": [
    "autoencoder.compile(optimizer='adadelta', loss='binary_crossentropy')"
   ]
  },
  {
   "cell_type": "code",
   "execution_count": 35,
   "metadata": {},
   "outputs": [
    {
     "name": "stdout",
     "output_type": "stream",
     "text": [
      "Train on 60000 samples, validate on 10000 samples\n",
      "Epoch 1/50\n",
      "60000/60000 [==============================] - 4s 68us/step - loss: 0.6883 - val_loss: 0.6487\n",
      "Epoch 2/50\n",
      "60000/60000 [==============================] - 4s 64us/step - loss: 0.6285 - val_loss: 0.6091\n",
      "Epoch 3/50\n",
      "60000/60000 [==============================] - 4s 63us/step - loss: 0.5917 - val_loss: 0.5750\n",
      "Epoch 4/50\n",
      "60000/60000 [==============================] - 4s 61us/step - loss: 0.5599 - val_loss: 0.5454\n",
      "Epoch 5/50\n",
      "60000/60000 [==============================] - 4s 63us/step - loss: 0.5324 - val_loss: 0.5198\n",
      "Epoch 6/50\n",
      "60000/60000 [==============================] - 4s 59us/step - loss: 0.5084 - val_loss: 0.4975\n",
      "Epoch 7/50\n",
      "60000/60000 [==============================] - 3s 57us/step - loss: 0.4875 - val_loss: 0.4780\n",
      "Epoch 8/50\n",
      "60000/60000 [==============================] - 3s 56us/step - loss: 0.4692 - val_loss: 0.4609\n",
      "Epoch 9/50\n",
      "60000/60000 [==============================] - 3s 55us/step - loss: 0.4531 - val_loss: 0.4458\n",
      "Epoch 10/50\n",
      "60000/60000 [==============================] - 3s 55us/step - loss: 0.4389 - val_loss: 0.4324\n",
      "Epoch 11/50\n",
      "60000/60000 [==============================] - 3s 55us/step - loss: 0.4262 - val_loss: 0.4205\n",
      "Epoch 12/50\n",
      "60000/60000 [==============================] - 3s 56us/step - loss: 0.4150 - val_loss: 0.4099\n",
      "Epoch 13/50\n",
      "60000/60000 [==============================] - 3s 55us/step - loss: 0.4049 - val_loss: 0.4003\n",
      "Epoch 14/50\n",
      "60000/60000 [==============================] - 3s 56us/step - loss: 0.3959 - val_loss: 0.3918\n",
      "Epoch 15/50\n",
      "60000/60000 [==============================] - 3s 56us/step - loss: 0.3877 - val_loss: 0.3841\n",
      "Epoch 16/50\n",
      "60000/60000 [==============================] - 4s 62us/step - loss: 0.3804 - val_loss: 0.3771\n",
      "Epoch 17/50\n",
      "60000/60000 [==============================] - 4s 62us/step - loss: 0.3737 - val_loss: 0.3707\n",
      "Epoch 18/50\n",
      "60000/60000 [==============================] - 4s 60us/step - loss: 0.3676 - val_loss: 0.3649\n",
      "Epoch 19/50\n",
      "60000/60000 [==============================] - 3s 56us/step - loss: 0.3621 - val_loss: 0.3596\n",
      "Epoch 20/50\n",
      "60000/60000 [==============================] - 3s 57us/step - loss: 0.3570 - val_loss: 0.3548\n",
      "Epoch 21/50\n",
      "60000/60000 [==============================] - 3s 57us/step - loss: 0.3524 - val_loss: 0.3504\n",
      "Epoch 22/50\n",
      "60000/60000 [==============================] - 3s 55us/step - loss: 0.3481 - val_loss: 0.3463\n",
      "Epoch 23/50\n",
      "60000/60000 [==============================] - ETA: 0s - loss: 0.344 - 3s 56us/step - loss: 0.3442 - val_loss: 0.3425\n",
      "Epoch 24/50\n",
      "60000/60000 [==============================] - 3s 56us/step - loss: 0.3406 - val_loss: 0.3390\n",
      "Epoch 25/50\n",
      "60000/60000 [==============================] - 3s 56us/step - loss: 0.3372 - val_loss: 0.3357\n",
      "Epoch 26/50\n",
      "60000/60000 [==============================] - 3s 56us/step - loss: 0.3341 - val_loss: 0.3327\n",
      "Epoch 27/50\n",
      "60000/60000 [==============================] - 3s 55us/step - loss: 0.3312 - val_loss: 0.3299\n",
      "Epoch 28/50\n",
      "60000/60000 [==============================] - 3s 56us/step - loss: 0.3285 - val_loss: 0.3273\n",
      "Epoch 29/50\n",
      "60000/60000 [==============================] - 3s 55us/step - loss: 0.3259 - val_loss: 0.3249\n",
      "Epoch 30/50\n",
      "60000/60000 [==============================] - 3s 55us/step - loss: 0.3236 - val_loss: 0.3226\n",
      "Epoch 31/50\n",
      "60000/60000 [==============================] - 3s 55us/step - loss: 0.3214 - val_loss: 0.3204\n",
      "Epoch 32/50\n",
      "60000/60000 [==============================] - 3s 57us/step - loss: 0.3193 - val_loss: 0.3184\n",
      "Epoch 33/50\n",
      "60000/60000 [==============================] - 3s 57us/step - loss: 0.3173 - val_loss: 0.3165\n",
      "Epoch 34/50\n",
      "60000/60000 [==============================] - 3s 57us/step - loss: 0.3155 - val_loss: 0.3147\n",
      "Epoch 35/50\n",
      "60000/60000 [==============================] - 3s 57us/step - loss: 0.3138 - val_loss: 0.3131\n",
      "Epoch 36/50\n",
      "60000/60000 [==============================] - 3s 57us/step - loss: 0.3121 - val_loss: 0.3115\n",
      "Epoch 37/50\n",
      "60000/60000 [==============================] - 3s 57us/step - loss: 0.3106 - val_loss: 0.3100\n",
      "Epoch 38/50\n",
      "60000/60000 [==============================] - 3s 58us/step - loss: 0.3091 - val_loss: 0.3085\n",
      "Epoch 39/50\n",
      "60000/60000 [==============================] - 3s 57us/step - loss: 0.3077 - val_loss: 0.3072\n",
      "Epoch 40/50\n",
      "60000/60000 [==============================] - 3s 57us/step - loss: 0.3064 - val_loss: 0.3059\n",
      "Epoch 41/50\n",
      "60000/60000 [==============================] - 3s 57us/step - loss: 0.3052 - val_loss: 0.3047\n",
      "Epoch 42/50\n",
      "60000/60000 [==============================] - 3s 58us/step - loss: 0.3040 - val_loss: 0.3035\n",
      "Epoch 43/50\n",
      "60000/60000 [==============================] - 3s 58us/step - loss: 0.3029 - val_loss: 0.3024\n",
      "Epoch 44/50\n",
      "60000/60000 [==============================] - 3s 57us/step - loss: 0.3018 - val_loss: 0.3014\n",
      "Epoch 45/50\n",
      "60000/60000 [==============================] - 3s 57us/step - loss: 0.3008 - val_loss: 0.3004\n",
      "Epoch 46/50\n",
      "60000/60000 [==============================] - 3s 57us/step - loss: 0.2998 - val_loss: 0.2994\n",
      "Epoch 47/50\n",
      "60000/60000 [==============================] - 4s 60us/step - loss: 0.2989 - val_loss: 0.2985\n",
      "Epoch 48/50\n",
      "60000/60000 [==============================] - 4s 59us/step - loss: 0.2980 - val_loss: 0.2977\n",
      "Epoch 49/50\n",
      "60000/60000 [==============================] - 3s 57us/step - loss: 0.2971 - val_loss: 0.2968\n",
      "Epoch 50/50\n",
      "60000/60000 [==============================] - 3s 57us/step - loss: 0.2963 - val_loss: 0.2960\n"
     ]
    },
    {
     "data": {
      "text/plain": [
       "<keras.callbacks.callbacks.History at 0x1da278f39e8>"
      ]
     },
     "execution_count": 35,
     "metadata": {},
     "output_type": "execute_result"
    }
   ],
   "source": [
    "autoencoder.fit(x_train, x_train,\n",
    "                epochs=50,\n",
    "                batch_size=256,\n",
    "                shuffle=True,\n",
    "                validation_data=(x_test, x_test))"
   ]
  },
  {
   "cell_type": "code",
   "execution_count": 36,
   "metadata": {},
   "outputs": [
    {
     "data": {
      "image/png": "[encoded data removed]",
      "text/plain": [
       "<Figure size 1440x288 with 20 Axes>"
      ]
     },
     "metadata": {
      "needs_background": "light"
     },
     "output_type": "display_data"
    }
   ],
   "source": [
    "import matplotlib.pyplot as plt\n",
    "\n",
    "n = 10  # how many digits we will display\n",
    "plt.figure(figsize=(20, 4))\n",
    "for i in range(n):\n",
    "    # display original\n",
    "    ax = plt.subplot(2, n, i + 1)\n",
    "    plt.imshow(x_test[i].reshape(28, 28))\n",
    "    plt.gray()\n",
    "    ax.get_xaxis().set_visible(False)\n",
    "    ax.get_yaxis().set_visible(False)\n",
    "\n",
    "    # display reconstruction\n",
    "    ax = plt.subplot(2, n, i + 1 + n)\n",
    "    plt.imshow(decoded_imgs[i].reshape(28, 28))\n",
    "    plt.gray()\n",
    "    ax.get_xaxis().set_visible(False)\n",
    "    ax.get_yaxis().set_visible(False)\n",
    "plt.show()"
   ]
  }
 ],
 "metadata": {
  "kernelspec": {
   "display_name": "Python 3",
   "language": "python",
   "name": "python3"
  },
  "language_info": {
   "codemirror_mode": {
    "name": "ipython",
    "version": 3
   },
   "file_extension": ".py",
   "mimetype": "text/x-python",
   "name": "python",
   "nbconvert_exporter": "python",
   "pygments_lexer": "ipython3",
   "version": "3.6.7"
  },
  "varInspector": {
   "cols": {
    "lenName": 16,
    "lenType": 16,
    "lenVar": 40
   },
   "kernels_config": {
    "python": {
     "delete_cmd_postfix": "",
     "delete_cmd_prefix": "del ",
     "library": "var_list.py",
     "varRefreshCmd": "print(var_dic_list())"
    },
    "r": {
     "delete_cmd_postfix": ") ",
     "delete_cmd_prefix": "rm(",
     "library": "var_list.r",
     "varRefreshCmd": "cat(var_dic_list()) "
    }
   },
   "types_to_exclude": [
    "module",
    "function",
    "builtin_function_or_method",
    "instance",
    "_Feature"
   ],
   "window_display": false
  }
 },
 "nbformat": 4,
 "nbformat_minor": 2
}
